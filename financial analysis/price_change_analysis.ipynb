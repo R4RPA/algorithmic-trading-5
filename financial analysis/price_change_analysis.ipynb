{
 "cells": [
  {
   "cell_type": "code",
   "execution_count": 67,
   "metadata": {},
   "outputs": [],
   "source": [
    "import pandas as pd\n",
    "import numpy as np\n",
    "import nsepy\n",
    "import matplotlib.pyplot as plt\n",
    "import datetime as dt\n",
    "import time\n",
    "from statistics import mean\n"
   ]
  },
  {
   "cell_type": "code",
   "execution_count": 78,
   "metadata": {},
   "outputs": [],
   "source": [
    "list_of_stocks = [\"IDEA\",\"MAHABANK\",\"PNB\",\"UNIONBANK\",\"IDBI\",\"GMRINFRA\",\"MMTC\",\n",
    "                  \"ONGC\",\"TATAMOTORS\",\"SBIN\",\"BIOCON\",\"ITC\",\"CUB\",\"SUZLON\",\"TAKE\",\n",
    "                  \"SUNPHARMA\"]       \n",
    "list_of_dfs = []\n",
    "days = 365*3"
   ]
  },
  {
   "cell_type": "code",
   "execution_count": 80,
   "metadata": {},
   "outputs": [
    {
     "name": "stdout",
     "output_type": "stream",
     "text": [
      "Completed : 1 out of 16 \n",
      "Completed : 2 out of 16 \n",
      "Completed : 3 out of 16 \n",
      "Completed : 4 out of 16 \n",
      "Completed : 5 out of 16 \n",
      "Completed : 6 out of 16 \n",
      "Completed : 7 out of 16 \n",
      "Completed : 8 out of 16 \n",
      "Completed : 9 out of 16 \n",
      "Completed : 10 out of 16 \n",
      "Completed : 11 out of 16 \n",
      "Completed : 12 out of 16 \n",
      "Completed : 13 out of 16 \n",
      "Completed : 14 out of 16 \n",
      "Completed : 15 out of 16 \n",
      "Completed : 16 out of 16 \n"
     ]
    }
   ],
   "source": [
    "\n",
    "for stock in range(len(list_of_stocks)):\n",
    "    list_of_dfs.append(nsepy.get_history(symbol=list_of_stocks[stock], start=dt.datetime.now() - dt.timedelta(days), end=dt.datetime.today()))\n",
    "    df = list_of_dfs[stock]\n",
    "    df[\"op-pv\"] = df[\"Open\"] - df[\"Prev Close\"]\n",
    "    print(\"Completed : {} out of {} \".format(stock+1,len(list_of_stocks)))\n",
    "    "
   ]
  },
  {
   "cell_type": "code",
   "execution_count": 81,
   "metadata": {},
   "outputs": [
    {
     "data": {
      "text/plain": [
       "32"
      ]
     },
     "execution_count": 81,
     "metadata": {},
     "output_type": "execute_result"
    }
   ],
   "source": [
    "mean_list = []\n",
    "len(list_of_dfs)"
   ]
  },
  {
   "cell_type": "code",
   "execution_count": 82,
   "metadata": {},
   "outputs": [
    {
     "name": "stdout",
     "output_type": "stream",
     "text": [
      "0\n",
      "1\n",
      "2\n",
      "3\n",
      "4\n",
      "5\n",
      "6\n",
      "7\n",
      "8\n",
      "9\n",
      "10\n",
      "11\n",
      "12\n",
      "13\n",
      "14\n",
      "15\n",
      "Error\n",
      "Error\n",
      "Error\n",
      "Error\n",
      "Error\n",
      "Error\n",
      "Error\n",
      "Error\n",
      "Error\n",
      "Error\n",
      "Error\n",
      "Error\n",
      "Error\n",
      "Error\n",
      "Error\n",
      "Error\n"
     ]
    },
    {
     "data": {
      "image/png": "[encoded data removed]",
      "text/plain": [
       "<Figure size 432x288 with 1 Axes>"
      ]
     },
     "metadata": {
      "needs_background": "light"
     },
     "output_type": "display_data"
    }
   ],
   "source": [
    "for stock in range(len(list_of_dfs)):\n",
    "    try:\n",
    "        list_of_dfs[stock]['op-pv'].plot(kind='hist',alpha=0.4,bins=100,title='distribution -> open - previous close')\n",
    "        mean_list.append(list_of_dfs[stock]['op-pv'].mean())\n",
    "        print(stock)\n",
    "    except:\n",
    "        print(\"Error\")\n"
   ]
  },
  {
   "cell_type": "code",
   "execution_count": 83,
   "metadata": {},
   "outputs": [
    {
     "data": {
      "text/plain": [
       "0.30896662730544305"
      ]
     },
     "execution_count": 83,
     "metadata": {},
     "output_type": "execute_result"
    }
   ],
   "source": [
    "mean(mean_list)\n"
   ]
  },
  {
   "cell_type": "code",
   "execution_count": 84,
   "metadata": {},
   "outputs": [],
   "source": [
    "pos_count = neg_count = 0\n",
    "for num in mean_list:\n",
    "    # checking condition\n",
    "    if num > 0:\n",
    "        pos_count += 1\n",
    "    elif num <0:\n",
    "        neg_count += 1"
   ]
  },
  {
   "cell_type": "code",
   "execution_count": 85,
   "metadata": {},
   "outputs": [
    {
     "data": {
      "text/plain": [
       "16"
      ]
     },
     "execution_count": 85,
     "metadata": {},
     "output_type": "execute_result"
    }
   ],
   "source": [
    "pos_count"
   ]
  },
  {
   "cell_type": "code",
   "execution_count": 76,
   "metadata": {},
   "outputs": [
    {
     "data": {
      "text/plain": [
       "0"
      ]
     },
     "execution_count": 76,
     "metadata": {},
     "output_type": "execute_result"
    }
   ],
   "source": [
    "neg_count\n"
   ]
  },
  {
   "cell_type": "code",
   "execution_count": 77,
   "metadata": {},
   "outputs": [
    {
     "data": {
      "text/plain": [
       "[0.033873144399460264,\n",
       " 0.09635627530364377,\n",
       " 0.14628879892037813,\n",
       " 0.1166666666666665,\n",
       " 0.15641025641025627,\n",
       " 0.03596491228070178,\n",
       " 0.117476383265857,\n",
       " 0.26916329284750334,\n",
       " 0.4506747638326579,\n",
       " 0.6388663967611345,\n",
       " 0.622199730094467,\n",
       " 0.5477058029689604,\n",
       " 0.27901484480431854,\n",
       " 0.021198830409356745,\n",
       " 0.3409581646423755,\n",
       " 1.0706477732793511]"
      ]
     },
     "execution_count": 77,
     "metadata": {},
     "output_type": "execute_result"
    }
   ],
   "source": [
    "mean_list"
   ]
  },
  {
   "cell_type": "code",
   "execution_count": null,
   "metadata": {},
   "outputs": [],
   "source": []
  }
 ],
 "metadata": {
  "kernelspec": {
   "display_name": "Python 3",
   "language": "python",
   "name": "python3"
  },
  "language_info": {
   "codemirror_mode": {
    "name": "ipython",
    "version": 3
   },
   "file_extension": ".py",
   "mimetype": "text/x-python",
   "name": "python",
   "nbconvert_exporter": "python",
   "pygments_lexer": "ipython3",
   "version": "3.7.4"
  }
 },
 "nbformat": 4,
 "nbformat_minor": 2
}
